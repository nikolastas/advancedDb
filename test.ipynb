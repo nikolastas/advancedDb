{
 "cells": [
  {
   "cell_type": "code",
   "execution_count": 1,
   "metadata": {},
   "outputs": [],
   "source": [
    "import pandas as pd\n"
   ]
  },
  {
   "cell_type": "code",
   "execution_count": 2,
   "metadata": {},
   "outputs": [
    {
     "name": "stderr",
     "output_type": "stream",
     "text": [
      "Setting default log level to \"WARN\".\n",
      "To adjust logging level use sc.setLogLevel(newLevel). For SparkR, use setLogLevel(newLevel).\n"
     ]
    },
    {
     "name": "stdout",
     "output_type": "stream",
     "text": [
      "22/12/30 19:31:35 WARN NativeCodeLoader: Unable to load native-hadoop library for your platform... using builtin-java classes where applicable\n"
     ]
    }
   ],
   "source": [
    "import pandas as pd\n",
    "import pyspark as ps\n",
    "sc = ps.SparkContext()\n",
    "from pyspark.sql import SparkSession\n",
    "\n",
    "\n",
    "# Create a SparkSession\n",
    "spark = SparkSession.builder.appName(\"MyApp\").getOrCreate()\n"
   ]
  },
  {
   "cell_type": "code",
   "execution_count": 3,
   "metadata": {},
   "outputs": [],
   "source": [
    "locationIdToName = \"./taxi+_zone_lookup.csv\"\n",
    "taxis = \"./taxis\"\n"
   ]
  },
  {
   "attachments": {},
   "cell_type": "markdown",
   "metadata": {},
   "source": [
    "# 1."
   ]
  },
  {
   "attachments": {},
   "cell_type": "markdown",
   "metadata": {},
   "source": [
    "## Dataframes\n"
   ]
  },
  {
   "cell_type": "code",
   "execution_count": 4,
   "metadata": {},
   "outputs": [
    {
     "name": "stdout",
     "output_type": "stream",
     "text": [
      "+----------+-------------+--------------------+------------+\n",
      "|LocationID|      Borough|                Zone|service_zone|\n",
      "+----------+-------------+--------------------+------------+\n",
      "|         1|          EWR|      Newark Airport|         EWR|\n",
      "|         2|       Queens|         Jamaica Bay|   Boro Zone|\n",
      "|         3|        Bronx|Allerton/Pelham G...|   Boro Zone|\n",
      "|         4|    Manhattan|       Alphabet City| Yellow Zone|\n",
      "|         5|Staten Island|       Arden Heights|   Boro Zone|\n",
      "|         6|Staten Island|Arrochar/Fort Wad...|   Boro Zone|\n",
      "|         7|       Queens|             Astoria|   Boro Zone|\n",
      "|         8|       Queens|        Astoria Park|   Boro Zone|\n",
      "|         9|       Queens|          Auburndale|   Boro Zone|\n",
      "|        10|       Queens|        Baisley Park|   Boro Zone|\n",
      "|        11|     Brooklyn|          Bath Beach|   Boro Zone|\n",
      "|        12|    Manhattan|        Battery Park| Yellow Zone|\n",
      "|        13|    Manhattan|   Battery Park City| Yellow Zone|\n",
      "|        14|     Brooklyn|           Bay Ridge|   Boro Zone|\n",
      "|        15|       Queens|Bay Terrace/Fort ...|   Boro Zone|\n",
      "|        16|       Queens|             Bayside|   Boro Zone|\n",
      "|        17|     Brooklyn|             Bedford|   Boro Zone|\n",
      "|        18|        Bronx|        Bedford Park|   Boro Zone|\n",
      "|        19|       Queens|           Bellerose|   Boro Zone|\n",
      "|        20|        Bronx|             Belmont|   Boro Zone|\n",
      "+----------+-------------+--------------------+------------+\n",
      "only showing top 20 rows\n",
      "\n"
     ]
    }
   ],
   "source": [
    "# create a dataframe file from the csv file using pyspark\n",
    "dff_locactions = spark.read.csv(locationIdToName, header=True, inferSchema=True)\n",
    "dff_locactions.show()"
   ]
  },
  {
   "cell_type": "code",
   "execution_count": 5,
   "metadata": {},
   "outputs": [
    {
     "name": "stdout",
     "output_type": "stream",
     "text": [
      "+--------+--------------------+---------------------+---------------+-------------+----------+------------------+------------+------------+------------+-----------+-----+-------+----------+------------+---------------------+------------+--------------------+-----------+\n",
      "|VendorID|tpep_pickup_datetime|tpep_dropoff_datetime|passenger_count|trip_distance|RatecodeID|store_and_fwd_flag|PULocationID|DOLocationID|payment_type|fare_amount|extra|mta_tax|tip_amount|tolls_amount|improvement_surcharge|total_amount|congestion_surcharge|airport_fee|\n",
      "+--------+--------------------+---------------------+---------------+-------------+----------+------------------+------------+------------+------------+-----------+-----+-------+----------+------------+---------------------+------------+--------------------+-----------+\n",
      "|       1| 2022-03-01 02:13:08|  2022-03-01 02:24:35|            1.0|          2.4|       1.0|                 N|          90|         209|           2|       10.0|  3.0|    0.5|       0.0|         0.0|                  0.3|        13.8|                 2.5|        0.0|\n",
      "|       1| 2022-03-01 02:47:52|  2022-03-01 03:00:08|            1.0|          2.2|       1.0|                 N|         148|         234|           2|       10.5|  3.0|    0.5|       0.0|         0.0|                  0.3|        14.3|                 2.5|        0.0|\n",
      "|       2| 2022-03-01 02:02:46|  2022-03-01 02:46:43|            1.0|        19.78|       2.0|                 N|         132|         249|           1|       52.0|  0.0|    0.5|     11.06|         0.0|                  0.3|       67.61|                 2.5|       1.25|\n",
      "|       2| 2022-03-01 02:52:43|  2022-03-01 03:03:40|            2.0|         2.94|       1.0|                 N|         211|          66|           1|       11.0|  0.5|    0.5|      4.44|         0.0|                  0.3|       19.24|                 2.5|        0.0|\n",
      "|       2| 2022-03-01 02:15:35|  2022-03-01 02:34:13|            1.0|         8.57|       1.0|                 N|         138|         197|           1|       25.0|  0.5|    0.5|      5.51|         0.0|                  0.3|       33.06|                 0.0|       1.25|\n",
      "+--------+--------------------+---------------------+---------------+-------------+----------+------------------+------------+------------+------------+-----------+-----+-------+----------+------------+---------------------+------------+--------------------+-----------+\n",
      "only showing top 5 rows\n",
      "\n"
     ]
    }
   ],
   "source": [
    "# create a dataframe file from the parquet file using pyspark\n",
    "dff_taxis = spark.read.parquet(taxis)\n",
    "dff_taxis.show(5)\n",
    "\n"
   ]
  },
  {
   "attachments": {},
   "cell_type": "markdown",
   "metadata": {},
   "source": [
    "## RDDs"
   ]
  },
  {
   "cell_type": "code",
   "execution_count": 6,
   "metadata": {},
   "outputs": [],
   "source": [
    "rdd_taxis = dff_taxis.rdd\n",
    "rdd_locations = dff_locactions.rdd"
   ]
  },
  {
   "attachments": {},
   "cell_type": "markdown",
   "metadata": {},
   "source": [
    "# Q1 & Q2"
   ]
  },
  {
   "cell_type": "code",
   "execution_count": 7,
   "metadata": {},
   "outputs": [],
   "source": [
    "# create a view for taxis \n",
    "dff_taxis.createOrReplaceTempView(\"taxis\")\n",
    "# do the same for locations\n",
    "dff_locactions.createOrReplaceTempView(\"locations\")"
   ]
  },
  {
   "cell_type": "code",
   "execution_count": 8,
   "metadata": {},
   "outputs": [
    {
     "name": "stderr",
     "output_type": "stream",
     "text": [
      "[Stage 6:======================>                                    (3 + 5) / 8]\r"
     ]
    },
    {
     "name": "stdout",
     "output_type": "stream",
     "text": [
      "[Row(VendorID=2, tpep_pickup_datetime=datetime.datetime(2022, 3, 17, 12, 27, 47), tpep_dropoff_datetime=datetime.datetime(2022, 3, 17, 12, 27, 58), passenger_count=1.0, trip_distance=0.0, RatecodeID=1.0, store_and_fwd_flag='N', PULocationID=12, DOLocationID=12, payment_type=1, fare_amount=2.5, extra=0.0, mta_tax=0.5, tip_amount=40.0, tolls_amount=0.0, improvement_surcharge=0.3, total_amount=45.8, congestion_surcharge=2.5, airport_fee=0.0, LocationID=12, Borough='Manhattan', Zone='Battery Park', service_zone='Yellow Zone')]\n",
      "Time:  1.9330899715423584\n"
     ]
    },
    {
     "name": "stderr",
     "output_type": "stream",
     "text": [
      "                                                                                \r"
     ]
    }
   ],
   "source": [
    "import time\n",
    "start = time.time()\n",
    "# lets filter all taxis trips , that happend in march\n",
    "marchTrips = spark.sql(\n",
    "  \"\"\"\n",
    "  SELECT *\n",
    "  FROM taxis \n",
    "  INNER JOIN locations ON taxis.DOLocationID = locations.LocationID\n",
    "  WHERE tpep_pickup_datetime >= '2022-03-01' \n",
    "  AND tpep_pickup_datetime < '2022-04-01' and tpep_dropoff_datetime >= '2022-03-01' \n",
    "  AND tpep_dropoff_datetime < '2022-04-01'\n",
    "  AND locations.Zone = \"Battery Park\"\n",
    "  ORDER BY Tip_amount DESC\n",
    "  limit 1\n",
    "  \"\"\"\n",
    "  )\n",
    "\n",
    "bestTipTripMarch = ((marchTrips).collect())\n",
    "end = time.time()\n",
    "print(bestTipTripMarch)\n",
    "print('Time: ',end - start)\n",
    "\n",
    "# filter the previus trips that "
   ]
  },
  {
   "cell_type": "code",
   "execution_count": 9,
   "metadata": {},
   "outputs": [
    {
     "name": "stderr",
     "output_type": "stream",
     "text": [
      "[Stage 7:==============>                                            (2 + 6) / 8]\r"
     ]
    },
    {
     "name": "stdout",
     "output_type": "stream",
     "text": [
      "[Row(max_toll_fees_per_month=235.7, month=3, max_date=datetime.datetime(2022, 3, 31, 23, 59, 50)), Row(max_toll_fees_per_month=911.87, month=4, max_date=datetime.datetime(2022, 4, 30, 23, 59, 39)), Row(max_toll_fees_per_month=95.0, month=2, max_date=datetime.datetime(2022, 2, 28, 23, 59, 55)), Row(max_toll_fees_per_month=800.09, month=6, max_date=datetime.datetime(2022, 6, 30, 23, 59, 52)), Row(max_toll_fees_per_month=29.55, month=7, max_date=datetime.datetime(2022, 7, 1, 2, 59, 49)), Row(max_toll_fees_per_month=813.75, month=5, max_date=datetime.datetime(2022, 5, 31, 23, 59, 55)), Row(max_toll_fees_per_month=193.3, month=1, max_date=datetime.datetime(2022, 1, 31, 23, 59, 48))]\n",
      "Time:  1.135735034942627\n"
     ]
    },
    {
     "name": "stderr",
     "output_type": "stream",
     "text": [
      "                                                                                \r"
     ]
    }
   ],
   "source": [
    "start = time.time()\n",
    "highestTollFees = spark.sql(\n",
    "  \"\"\"\n",
    "  SELECT MAX(Tolls_amount) as max_toll_fees_per_month, MONTH(tpep_pickup_datetime) as month, \n",
    "  MAX(tpep_pickup_datetime) as max_date\n",
    "  FROM taxis\n",
    "  where Tolls_amount > 0\n",
    "  AND YEAR(tpep_pickup_datetime) = '2022'\n",
    "  GROUP BY MONTH(tpep_pickup_datetime)\n",
    "  \"\"\"\n",
    "  )\n",
    "highestTollFees = ((highestTollFees).collect())\n",
    "end = time.time()\n",
    "print(highestTollFees)\n",
    "print('Time: ',end - start)"
   ]
  },
  {
   "attachments": {},
   "cell_type": "markdown",
   "metadata": {},
   "source": [
    "# Q3"
   ]
  },
  {
   "cell_type": "code",
   "execution_count": 10,
   "metadata": {},
   "outputs": [
    {
     "name": "stderr",
     "output_type": "stream",
     "text": [
      "                                                                                \r"
     ]
    },
    {
     "name": "stdout",
     "output_type": "stream",
     "text": [
      "[Row(avg_trip_distance=3.924531002558172, avg_trip_cost=21.80540260689235, period=datetime.datetime(2022, 7, 1, 0, 0)), Row(avg_trip_distance=6.174138574511356, avg_trip_cost=22.331380641103525, period=datetime.datetime(2022, 6, 16, 0, 0)), Row(avg_trip_distance=6.315157336730177, avg_trip_cost=22.466305309343248, period=datetime.datetime(2022, 6, 1, 0, 0)), Row(avg_trip_distance=7.906694182348757, avg_trip_cost=22.771948777963715, period=datetime.datetime(2022, 5, 16, 0, 0)), Row(avg_trip_distance=6.249697852127242, avg_trip_cost=21.921570348909114, period=datetime.datetime(2022, 5, 1, 0, 0)), Row(avg_trip_distance=5.800344707645977, avg_trip_cost=21.428088376232783, period=datetime.datetime(2022, 4, 16, 0, 0)), Row(avg_trip_distance=5.679323077938295, avg_trip_cost=21.515559094583583, period=datetime.datetime(2022, 4, 1, 0, 0)), Row(avg_trip_distance=5.5569449358506535, avg_trip_cost=21.120920554171548, period=datetime.datetime(2022, 3, 16, 0, 0)), Row(avg_trip_distance=6.480485434052824, avg_trip_cost=20.652278174179074, period=datetime.datetime(2022, 3, 1, 0, 0)), Row(avg_trip_distance=5.849460516243601, avg_trip_cost=20.18769180439039, period=datetime.datetime(2022, 2, 16, 0, 0)), Row(avg_trip_distance=6.248888338463885, avg_trip_cost=19.491979067237448, period=datetime.datetime(2022, 2, 1, 0, 0)), Row(avg_trip_distance=5.097880367275346, avg_trip_cost=19.14882164234129, period=datetime.datetime(2022, 1, 16, 0, 0)), Row(avg_trip_distance=5.576410377852007, avg_trip_cost=19.903702637879007, period=datetime.datetime(2022, 1, 1, 0, 0))]\n",
      "Time:  2.53067684173584\n"
     ]
    }
   ],
   "source": [
    "# group by every 15 days and find the average trip distance and the average trip cost\n",
    "start = time.time()\n",
    "avgTripDistanceAndCost = spark.sql(\n",
    "    \"\"\"\n",
    "    SELECT AVG(Trip_distance) as avg_trip_distance, AVG(Total_amount) as avg_trip_cost,\n",
    "    CASE \n",
    "        WHEN \n",
    "            EXTRACT(day FROM tpep_pickup_datetime) BETWEEN 1 AND 15 \n",
    "            THEN DATE_TRUNC('month', tpep_pickup_datetime)\n",
    "        ELSE DATE_ADD(DATE_TRUNC('month', tpep_pickup_datetime), 15)\n",
    "    END AS period\n",
    "    FROM taxis\n",
    "    WHERE tpep_pickup_datetime >= '2022-01-01'\n",
    "    AND tpep_pickup_datetime < '2022-12-31'\n",
    "    AND PULocationID != DOLocationID\n",
    "    GROUP BY period\n",
    "    ORDER BY period DESC\n",
    "    \"\"\"\n",
    "    )\n",
    "avgTripDistanceAndCost = ((avgTripDistanceAndCost).collect())\n",
    "end = time.time()\n",
    "print(avgTripDistanceAndCost)\n",
    "print('Time: ',end - start)"
   ]
  },
  {
   "cell_type": "code",
   "execution_count": 11,
   "metadata": {},
   "outputs": [
    {
     "data": {
      "text/plain": [
       "[Row(LocationID=247, Borough='Bronx', Zone='West Concourse', service_zone='Boro Zone'),\n",
       " Row(LocationID=248, Borough='Bronx', Zone='West Farms/Bronx River', service_zone='Boro Zone'),\n",
       " Row(LocationID=145, Borough='Queens', Zone='Long Island City/Hunters Point', service_zone='Boro Zone'),\n",
       " Row(LocationID=115, Borough='Staten Island', Zone='Grymes Hill/Clifton', service_zone='Boro Zone'),\n",
       " Row(LocationID=238, Borough='Manhattan', Zone='Upper West Side North', service_zone='Yellow Zone')]"
      ]
     },
     "metadata": {},
     "output_type": "display_data"
    },
    {
     "name": "stdout",
     "output_type": "stream",
     "text": [
      "--------------\n"
     ]
    },
    {
     "data": {
      "text/plain": [
       "[Row(VendorID=1, tpep_pickup_datetime=datetime.datetime(2022, 3, 1, 2, 13, 8), tpep_dropoff_datetime=datetime.datetime(2022, 3, 1, 2, 24, 35), passenger_count=1.0, trip_distance=2.4, RatecodeID=1.0, store_and_fwd_flag='N', PULocationID=90, DOLocationID=209, payment_type=2, fare_amount=10.0, extra=3.0, mta_tax=0.5, tip_amount=0.0, tolls_amount=0.0, improvement_surcharge=0.3, total_amount=13.8, congestion_surcharge=2.5, airport_fee=0.0)]"
      ]
     },
     "metadata": {},
     "output_type": "display_data"
    }
   ],
   "source": [
    "\n",
    "display(rdd_locations.takeSample(False, 5, 1))\n",
    "print('--------------')\n",
    "display(rdd_taxis.take(1))"
   ]
  },
  {
   "cell_type": "code",
   "execution_count": 12,
   "metadata": {},
   "outputs": [],
   "source": [
    "from datetime import datetime \n",
    "def get_period(dt):\n",
    "    day = dt.day\n",
    "    if day >= 1 and day <= 15:\n",
    "        return datetime(dt.year, dt.month, 1)\n",
    "    else:\n",
    "        return datetime(dt.year, dt.month, 16)\n",
    "def handleGroupValues(x,y):\n",
    "    return (x[0]+y[0], x[1]+y[1], x[2]+y[2])"
   ]
  },
  {
   "cell_type": "code",
   "execution_count": 13,
   "metadata": {},
   "outputs": [
    {
     "name": "stdout",
     "output_type": "stream",
     "text": [
      "step 1 finished\n",
      "step 2 finished\n",
      "step 3 finished\n",
      "step 4 finished\n"
     ]
    },
    {
     "name": "stderr",
     "output_type": "stream",
     "text": [
      "ERROR:root:KeyboardInterrupt while sending command.                 (2 + 6) / 8]\n",
      "Traceback (most recent call last):\n",
      "  File \"/opt/homebrew/lib/python3.10/site-packages/py4j/java_gateway.py\", line 1038, in send_command\n",
      "    response = connection.send_command(command)\n",
      "  File \"/opt/homebrew/lib/python3.10/site-packages/py4j/clientserver.py\", line 511, in send_command\n",
      "    answer = smart_decode(self.stream.readline()[:-1])\n",
      "  File \"/opt/homebrew/Cellar/python@3.10/3.10.9/Frameworks/Python.framework/Versions/3.10/lib/python3.10/socket.py\", line 705, in readinto\n",
      "    return self._sock.recv_into(b)\n",
      "KeyboardInterrupt\n",
      "[Stage 21:==============>                                           (2 + 6) / 8]\r"
     ]
    },
    {
     "ename": "KeyboardInterrupt",
     "evalue": "",
     "output_type": "error",
     "traceback": [
      "\u001b[0;31m---------------------------------------------------------------------------\u001b[0m",
      "\u001b[0;31mKeyboardInterrupt\u001b[0m                         Traceback (most recent call last)",
      "\u001b[1;32m/Users/ntasiopoulosskroutzdelivery.gr/Projects/advancedDb/test.ipynb Cell 18\u001b[0m in \u001b[0;36m<cell line: 20>\u001b[0;34m()\u001b[0m\n\u001b[1;32m     <a href='vscode-notebook-cell:/Users/ntasiopoulosskroutzdelivery.gr/Projects/advancedDb/test.ipynb#X15sZmlsZQ%3D%3D?line=16'>17</a>\u001b[0m avgTripDistanceAndCostRdd4 \u001b[39m=\u001b[39m avgTripDistanceAndCostRdd_step3 \\\n\u001b[1;32m     <a href='vscode-notebook-cell:/Users/ntasiopoulosskroutzdelivery.gr/Projects/advancedDb/test.ipynb#X15sZmlsZQ%3D%3D?line=17'>18</a>\u001b[0m     \u001b[39m.\u001b[39mmapValues(\u001b[39mlambda\u001b[39;00m x: (x[\u001b[39m0\u001b[39m]\u001b[39m/\u001b[39mx[\u001b[39m2\u001b[39m], x[\u001b[39m1\u001b[39m]\u001b[39m/\u001b[39mx[\u001b[39m2\u001b[39m]))\u001b[39m.\u001b[39mcache()\n\u001b[1;32m     <a href='vscode-notebook-cell:/Users/ntasiopoulosskroutzdelivery.gr/Projects/advancedDb/test.ipynb#X15sZmlsZQ%3D%3D?line=18'>19</a>\u001b[0m \u001b[39mprint\u001b[39m(\u001b[39m'\u001b[39m\u001b[39mstep 4 finished\u001b[39m\u001b[39m'\u001b[39m)\n\u001b[1;32m     <a href='vscode-notebook-cell:/Users/ntasiopoulosskroutzdelivery.gr/Projects/advancedDb/test.ipynb#X15sZmlsZQ%3D%3D?line=19'>20</a>\u001b[0m avgTripDistanceAndCostRdd \u001b[39m=\u001b[39m avgTripDistanceAndCostRdd4 \\\n\u001b[0;32m---> <a href='vscode-notebook-cell:/Users/ntasiopoulosskroutzdelivery.gr/Projects/advancedDb/test.ipynb#X15sZmlsZQ%3D%3D?line=20'>21</a>\u001b[0m     \u001b[39m.\u001b[39;49mtake(\u001b[39m1\u001b[39;49m)\n\u001b[1;32m     <a href='vscode-notebook-cell:/Users/ntasiopoulosskroutzdelivery.gr/Projects/advancedDb/test.ipynb#X15sZmlsZQ%3D%3D?line=21'>22</a>\u001b[0m     \u001b[39m# (a, (b, c, d))\u001b[39;00m\n\u001b[1;32m     <a href='vscode-notebook-cell:/Users/ntasiopoulosskroutzdelivery.gr/Projects/advancedDb/test.ipynb#X15sZmlsZQ%3D%3D?line=22'>23</a>\u001b[0m     \u001b[39m# a - period - key\u001b[39;00m\n\u001b[1;32m     <a href='vscode-notebook-cell:/Users/ntasiopoulosskroutzdelivery.gr/Projects/advancedDb/test.ipynb#X15sZmlsZQ%3D%3D?line=23'>24</a>\u001b[0m     \u001b[39m# b,c,d - values - x\u001b[39;00m\n\u001b[0;32m   (...)\u001b[0m\n\u001b[1;32m     <a href='vscode-notebook-cell:/Users/ntasiopoulosskroutzdelivery.gr/Projects/advancedDb/test.ipynb#X15sZmlsZQ%3D%3D?line=27'>28</a>\u001b[0m     \u001b[39m# x[0]/x[2] - average trip distance\u001b[39;00m\n\u001b[1;32m     <a href='vscode-notebook-cell:/Users/ntasiopoulosskroutzdelivery.gr/Projects/advancedDb/test.ipynb#X15sZmlsZQ%3D%3D?line=28'>29</a>\u001b[0m     \u001b[39m# x[1]/x[2] - average trip cost\u001b[39;00m\n\u001b[1;32m     <a href='vscode-notebook-cell:/Users/ntasiopoulosskroutzdelivery.gr/Projects/advancedDb/test.ipynb#X15sZmlsZQ%3D%3D?line=29'>30</a>\u001b[0m end \u001b[39m=\u001b[39m time\u001b[39m.\u001b[39mtime()\n",
      "File \u001b[0;32m/opt/homebrew/lib/python3.10/site-packages/pyspark/rdd.py:1883\u001b[0m, in \u001b[0;36mRDD.take\u001b[0;34m(self, num)\u001b[0m\n\u001b[1;32m   1880\u001b[0m         taken \u001b[39m+\u001b[39m\u001b[39m=\u001b[39m \u001b[39m1\u001b[39m\n\u001b[1;32m   1882\u001b[0m p \u001b[39m=\u001b[39m \u001b[39mrange\u001b[39m(partsScanned, \u001b[39mmin\u001b[39m(partsScanned \u001b[39m+\u001b[39m numPartsToTry, totalParts))\n\u001b[0;32m-> 1883\u001b[0m res \u001b[39m=\u001b[39m \u001b[39mself\u001b[39;49m\u001b[39m.\u001b[39;49mcontext\u001b[39m.\u001b[39;49mrunJob(\u001b[39mself\u001b[39;49m, takeUpToNumLeft, p)\n\u001b[1;32m   1885\u001b[0m items \u001b[39m+\u001b[39m\u001b[39m=\u001b[39m res\n\u001b[1;32m   1886\u001b[0m partsScanned \u001b[39m+\u001b[39m\u001b[39m=\u001b[39m numPartsToTry\n",
      "File \u001b[0;32m/opt/homebrew/lib/python3.10/site-packages/pyspark/context.py:1486\u001b[0m, in \u001b[0;36mSparkContext.runJob\u001b[0;34m(self, rdd, partitionFunc, partitions, allowLocal)\u001b[0m\n\u001b[1;32m   1484\u001b[0m mappedRDD \u001b[39m=\u001b[39m rdd\u001b[39m.\u001b[39mmapPartitions(partitionFunc)\n\u001b[1;32m   1485\u001b[0m \u001b[39massert\u001b[39;00m \u001b[39mself\u001b[39m\u001b[39m.\u001b[39m_jvm \u001b[39mis\u001b[39;00m \u001b[39mnot\u001b[39;00m \u001b[39mNone\u001b[39;00m\n\u001b[0;32m-> 1486\u001b[0m sock_info \u001b[39m=\u001b[39m \u001b[39mself\u001b[39;49m\u001b[39m.\u001b[39;49m_jvm\u001b[39m.\u001b[39;49mPythonRDD\u001b[39m.\u001b[39;49mrunJob(\u001b[39mself\u001b[39;49m\u001b[39m.\u001b[39;49m_jsc\u001b[39m.\u001b[39;49msc(), mappedRDD\u001b[39m.\u001b[39;49m_jrdd, partitions)\n\u001b[1;32m   1487\u001b[0m \u001b[39mreturn\u001b[39;00m \u001b[39mlist\u001b[39m(_load_from_socket(sock_info, mappedRDD\u001b[39m.\u001b[39m_jrdd_deserializer))\n",
      "File \u001b[0;32m/opt/homebrew/lib/python3.10/site-packages/py4j/java_gateway.py:1320\u001b[0m, in \u001b[0;36mJavaMember.__call__\u001b[0;34m(self, *args)\u001b[0m\n\u001b[1;32m   1313\u001b[0m args_command, temp_args \u001b[39m=\u001b[39m \u001b[39mself\u001b[39m\u001b[39m.\u001b[39m_build_args(\u001b[39m*\u001b[39margs)\n\u001b[1;32m   1315\u001b[0m command \u001b[39m=\u001b[39m proto\u001b[39m.\u001b[39mCALL_COMMAND_NAME \u001b[39m+\u001b[39m\\\n\u001b[1;32m   1316\u001b[0m     \u001b[39mself\u001b[39m\u001b[39m.\u001b[39mcommand_header \u001b[39m+\u001b[39m\\\n\u001b[1;32m   1317\u001b[0m     args_command \u001b[39m+\u001b[39m\\\n\u001b[1;32m   1318\u001b[0m     proto\u001b[39m.\u001b[39mEND_COMMAND_PART\n\u001b[0;32m-> 1320\u001b[0m answer \u001b[39m=\u001b[39m \u001b[39mself\u001b[39;49m\u001b[39m.\u001b[39;49mgateway_client\u001b[39m.\u001b[39;49msend_command(command)\n\u001b[1;32m   1321\u001b[0m return_value \u001b[39m=\u001b[39m get_return_value(\n\u001b[1;32m   1322\u001b[0m     answer, \u001b[39mself\u001b[39m\u001b[39m.\u001b[39mgateway_client, \u001b[39mself\u001b[39m\u001b[39m.\u001b[39mtarget_id, \u001b[39mself\u001b[39m\u001b[39m.\u001b[39mname)\n\u001b[1;32m   1324\u001b[0m \u001b[39mfor\u001b[39;00m temp_arg \u001b[39min\u001b[39;00m temp_args:\n",
      "File \u001b[0;32m/opt/homebrew/lib/python3.10/site-packages/py4j/java_gateway.py:1038\u001b[0m, in \u001b[0;36mGatewayClient.send_command\u001b[0;34m(self, command, retry, binary)\u001b[0m\n\u001b[1;32m   1036\u001b[0m connection \u001b[39m=\u001b[39m \u001b[39mself\u001b[39m\u001b[39m.\u001b[39m_get_connection()\n\u001b[1;32m   1037\u001b[0m \u001b[39mtry\u001b[39;00m:\n\u001b[0;32m-> 1038\u001b[0m     response \u001b[39m=\u001b[39m connection\u001b[39m.\u001b[39;49msend_command(command)\n\u001b[1;32m   1039\u001b[0m     \u001b[39mif\u001b[39;00m binary:\n\u001b[1;32m   1040\u001b[0m         \u001b[39mreturn\u001b[39;00m response, \u001b[39mself\u001b[39m\u001b[39m.\u001b[39m_create_connection_guard(connection)\n",
      "File \u001b[0;32m/opt/homebrew/lib/python3.10/site-packages/py4j/clientserver.py:511\u001b[0m, in \u001b[0;36mClientServerConnection.send_command\u001b[0;34m(self, command)\u001b[0m\n\u001b[1;32m    509\u001b[0m \u001b[39mtry\u001b[39;00m:\n\u001b[1;32m    510\u001b[0m     \u001b[39mwhile\u001b[39;00m \u001b[39mTrue\u001b[39;00m:\n\u001b[0;32m--> 511\u001b[0m         answer \u001b[39m=\u001b[39m smart_decode(\u001b[39mself\u001b[39;49m\u001b[39m.\u001b[39;49mstream\u001b[39m.\u001b[39;49mreadline()[:\u001b[39m-\u001b[39m\u001b[39m1\u001b[39m])\n\u001b[1;32m    512\u001b[0m         logger\u001b[39m.\u001b[39mdebug(\u001b[39m\"\u001b[39m\u001b[39mAnswer received: \u001b[39m\u001b[39m{0}\u001b[39;00m\u001b[39m\"\u001b[39m\u001b[39m.\u001b[39mformat(answer))\n\u001b[1;32m    513\u001b[0m         \u001b[39m# Happens when a the other end is dead. There might be an empty\u001b[39;00m\n\u001b[1;32m    514\u001b[0m         \u001b[39m# answer before the socket raises an error.\u001b[39;00m\n",
      "File \u001b[0;32m/opt/homebrew/Cellar/python@3.10/3.10.9/Frameworks/Python.framework/Versions/3.10/lib/python3.10/socket.py:705\u001b[0m, in \u001b[0;36mSocketIO.readinto\u001b[0;34m(self, b)\u001b[0m\n\u001b[1;32m    703\u001b[0m \u001b[39mwhile\u001b[39;00m \u001b[39mTrue\u001b[39;00m:\n\u001b[1;32m    704\u001b[0m     \u001b[39mtry\u001b[39;00m:\n\u001b[0;32m--> 705\u001b[0m         \u001b[39mreturn\u001b[39;00m \u001b[39mself\u001b[39;49m\u001b[39m.\u001b[39;49m_sock\u001b[39m.\u001b[39;49mrecv_into(b)\n\u001b[1;32m    706\u001b[0m     \u001b[39mexcept\u001b[39;00m timeout:\n\u001b[1;32m    707\u001b[0m         \u001b[39mself\u001b[39m\u001b[39m.\u001b[39m_timeout_occurred \u001b[39m=\u001b[39m \u001b[39mTrue\u001b[39;00m\n",
      "\u001b[0;31mKeyboardInterrupt\u001b[0m: "
     ]
    }
   ],
   "source": [
    "# do the same but in rdd format\n",
    "start = time.time()\n",
    "avgTripDistanceAndCostRdd_step1 = \\\n",
    "    rdd_taxis \\\n",
    "    .filter(lambda x: x.PULocationID != x.DOLocationID \\\n",
    "        and  x.tpep_dropoff_datetime.strftime(\"%Y-%m-%d\") >= \"2022-01-01\" \\\n",
    "        and  x.tpep_dropoff_datetime.strftime(\"%Y-%m-%d\") <= \"2022-12-31\" ) \n",
    "print('step 1 finished')\n",
    "avgTripDistanceAndCostRdd_step2 = \\\n",
    "    avgTripDistanceAndCostRdd_step1 \\\n",
    "    .map(lambda x: (get_period(x.tpep_pickup_datetime), (x.trip_distance, x.total_amount, 1)))\n",
    "print('step 2 finished')\n",
    "avgTripDistanceAndCostRdd_step3 = avgTripDistanceAndCostRdd_step2 \\\n",
    "    .reduceByKey(handleGroupValues)\n",
    "print('step 3 finished')\n",
    "print\n",
    "avgTripDistanceAndCostRdd4 = avgTripDistanceAndCostRdd_step3 \\\n",
    "    .mapValues(lambda x: (x[0]/x[2], x[1]/x[2])).cache()\n",
    "print('step 4 finished')\n",
    "avgTripDistanceAndCostRdd = avgTripDistanceAndCostRdd4 \\\n",
    "    .take(1)\n",
    "    # (a, (b, c, d))\n",
    "    # a - period - key\n",
    "    # b,c,d - values - x\n",
    "    # x[0] + y[0] - sum of trip distances\n",
    "    # x[1] + y[1] - sum of trip costs\n",
    "    # x[2] + y[2] - number of trips\n",
    "    # x[0]/x[2] - average trip distance\n",
    "    # x[1]/x[2] - average trip cost\n",
    "end = time.time()\n",
    "print('rdd finished')\n",
    "print(avgTripDistanceAndCostRdd)\n",
    "print('Time: ',end - start)"
   ]
  },
  {
   "cell_type": "code",
   "execution_count": 18,
   "metadata": {},
   "outputs": [
    {
     "name": "stdout",
     "output_type": "stream",
     "text": [
      "[('a', 2.5), ('b', 5.0)]\n"
     ]
    }
   ],
   "source": [
    "from operator import add\n",
    "\n",
    "def average(x, y):\n",
    "    return (x[0] + y[0], x[1] + y[1])\n",
    "\n",
    "def get_average(x):\n",
    "    return x[0] / x[1]\n",
    "\n",
    "rdd = sc.parallelize([(\"a\", 2), (\"a\", 3), (\"b\", 4), (\"b\", 5), (\"b\", 6)])\n",
    "\n",
    "# Calculate the sum and count of values for each key\n",
    "sum_count_rdd = rdd.mapValues(lambda x: (x, 1)).reduceByKey(average)\n",
    "\n",
    "# Calculate the average for each key\n",
    "average_rdd = sum_count_rdd.mapValues(get_average)\n",
    "\n",
    "# Output: [(\"a\", 2.5), (\"b\", 5.0)]\n",
    "print(average_rdd.collect())"
   ]
  }
 ],
 "metadata": {
  "kernelspec": {
   "display_name": "Python 3",
   "language": "python",
   "name": "python3"
  },
  "language_info": {
   "codemirror_mode": {
    "name": "ipython",
    "version": 3
   },
   "file_extension": ".py",
   "mimetype": "text/x-python",
   "name": "python",
   "nbconvert_exporter": "python",
   "pygments_lexer": "ipython3",
   "version": "3.10.9"
  },
  "orig_nbformat": 4,
  "vscode": {
   "interpreter": {
    "hash": "b0fa6594d8f4cbf19f97940f81e996739fb7646882a419484c72d19e05852a7e"
   }
  }
 },
 "nbformat": 4,
 "nbformat_minor": 2
}
